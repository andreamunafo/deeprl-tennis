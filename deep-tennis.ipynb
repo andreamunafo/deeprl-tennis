{
 "cells": [
  {
   "cell_type": "markdown",
   "metadata": {},
   "source": [
    "# Deep RL and tennis or how to collaborating competing"
   ]
  },
  {
   "cell_type": "markdown",
   "metadata": {},
   "source": [
    "### Reference:\n",
    " > [1] [Lillicrap, Hunt et al, Continous Control with Deep Reinforcement Learning, ICLR 2016](https://arxiv.org/pdf/1509.02971.pdf)  \n",
    " > [2] [Lowe et al, Multi-Agent Actor-Critic for Mixed Cooperative-Competitive Environments](https://arxiv.org/pdf/1706.02275.pdf)"
   ]
  },
  {
   "cell_type": "markdown",
   "metadata": {},
   "source": [
    "Load the relevant packages. Note that this notebook uses Unity environments."
   ]
  },
  {
   "cell_type": "code",
   "execution_count": 1,
   "metadata": {},
   "outputs": [],
   "source": [
    "from unityagents import UnityEnvironment\n",
    "import numpy as np\n",
    "\n",
    "import random\n",
    "import copy\n",
    "from collections import namedtuple, deque\n",
    "\n",
    "import torch\n",
    "import torch.nn as nn\n",
    "import torch.nn.functional as F\n",
    "import torch.optim as optim\n",
    "\n",
    "import matplotlib.pyplot as plt\n",
    "\n",
    "import pickle\n",
    "\n",
    "from IPython import display\n",
    "%matplotlib inline"
   ]
  },
  {
   "cell_type": "markdown",
   "metadata": {},
   "source": [
    "Set specific seeds for reproducibility"
   ]
  },
  {
   "cell_type": "code",
   "execution_count": 2,
   "metadata": {},
   "outputs": [],
   "source": [
    "RANDOM_SEED = 2\n",
    "np.random.seed(RANDOM_SEED)"
   ]
  },
  {
   "cell_type": "markdown",
   "metadata": {},
   "source": [
    "Load the correct unity environment."
   ]
  },
  {
   "cell_type": "code",
   "execution_count": 3,
   "metadata": {},
   "outputs": [
    {
     "name": "stderr",
     "output_type": "stream",
     "text": [
      "INFO:unityagents:\n",
      "'Academy' started successfully!\n",
      "Unity Academy name: Academy\n",
      "        Number of Brains: 1\n",
      "        Number of External Brains : 1\n",
      "        Lesson number : 0\n",
      "        Reset Parameters :\n",
      "\t\t\n",
      "Unity brain name: TennisBrain\n",
      "        Number of Visual Observations (per agent): 0\n",
      "        Vector Observation space type: continuous\n",
      "        Vector Observation space size (per agent): 8\n",
      "        Number of stacked Vector Observation: 3\n",
      "        Vector Action space type: continuous\n",
      "        Vector Action space size (per agent): 2\n",
      "        Vector Action descriptions: , \n"
     ]
    }
   ],
   "source": [
    "env = UnityEnvironment(file_name=\"./apps/Tennis\", no_graphics=False, worker_id=1, seed=RANDOM_SEED)"
   ]
  },
  {
   "cell_type": "markdown",
   "metadata": {},
   "source": [
    "Environments contain **_brains_** which are responsible for deciding the actions of their associated agents. The next line checks for the first brain available, and set it as the default brain we will be controlling from Python."
   ]
  },
  {
   "cell_type": "code",
   "execution_count": 4,
   "metadata": {},
   "outputs": [],
   "source": [
    "# get the default brain\n",
    "brain_name = env.brain_names[0]\n",
    "brain = env.brains[brain_name]"
   ]
  },
  {
   "cell_type": "markdown",
   "metadata": {},
   "source": [
    "### 2. Examine the State and Action Spaces\n",
    "\n",
    "In this environment, two agents control rackets to bounce a ball over a net. If an agent hits the ball over the net, it receives a reward of +0.1. If an agent lets a ball hit the ground or hits the ball out of bounds, it receives a reward of -0.01. Thus, the goal of each agent is to keep the ball in play.\n",
    "The observation space consists of 8 variables corresponding to the position and velocity of the ball and racket. Two continuous actions are available, corresponding to movement toward (or away from) the net, and jumping.\n",
    "Run the code cell below to print some information about the environment."
   ]
  },
  {
   "cell_type": "code",
   "execution_count": 5,
   "metadata": {},
   "outputs": [
    {
     "name": "stdout",
     "output_type": "stream",
     "text": [
      "Number of agents: 2\n",
      "Size of each action: 2\n",
      "There are 2 agents. Each observes a state with length: 24\n",
      "The state for the first agent looks like: [ 0.          0.          0.          0.          0.          0.\n",
      "  0.          0.          0.          0.          0.          0.\n",
      "  0.          0.          0.          0.         -6.29742813 -1.5\n",
      " -0.          0.          7.17024279  6.         -0.          0.        ]\n"
     ]
    }
   ],
   "source": [
    "# reset the environment\n",
    "env_info = env.reset(train_mode=False)[brain_name]\n",
    "\n",
    "# number of agents \n",
    "num_agents = len(env_info.agents)\n",
    "print('Number of agents:', num_agents)\n",
    "\n",
    "# size of each action\n",
    "action_size = brain.vector_action_space_size\n",
    "print('Size of each action:', action_size)\n",
    "\n",
    "# examine the state space \n",
    "states = env_info.vector_observations\n",
    "state_size = states.shape[1]\n",
    "print('There are {} agents. Each observes a state with length: {}'.format(states.shape[0], state_size))\n",
    "print('The state for the first agent looks like:', states[0])"
   ]
  },
  {
   "cell_type": "markdown",
   "metadata": {},
   "source": [
    "### A random agent"
   ]
  },
  {
   "cell_type": "code",
   "execution_count": 6,
   "metadata": {},
   "outputs": [],
   "source": [
    "for i in range(1, 6):                                      # play game for 5 episodes\n",
    "    env_info = env.reset(train_mode=False)[brain_name]     # reset the environment    \n",
    "    states = env_info.vector_observations                  # get the current state (for each agent)\n",
    "    scores = np.zeros(num_agents)                          # initialize the score (for each agent)\n",
    "    while True:\n",
    "        actions = np.random.randn(num_agents, action_size) # select an action (for each agent)\n",
    "        actions = np.clip(actions, -1, 1)                  # all actions between -1 and 1\n",
    "        env_info = env.step(actions)[brain_name]           # send all actions to tne environment\n",
    "        next_states = env_info.vector_observations         # get next state (for each agent)\n",
    "        rewards = env_info.rewards                         # get reward (for each agent)\n",
    "        dones = env_info.local_done                        # see if episode finished\n",
    "        scores += env_info.rewards                         # update the score (for each agent)\n",
    "        states = next_states                               # roll over states to next time step\n",
    "        if np.any(dones):                                  # exit loop if episode finished\n",
    "            break\n",
    "    print('Score (max over agents) from episode {}: {}'.format(i, np.max(scores)))"
   ]
  },
  {
   "cell_type": "markdown",
   "metadata": {},
   "source": [
    "## Model"
   ]
  },
  {
   "cell_type": "code",
   "execution_count": 7,
   "metadata": {},
   "outputs": [],
   "source": [
    "def hidden_init(layer):\n",
    "    \"\"\"Hidden layer's weights intialization\"\"\"\n",
    "    fan_in = layer.weight.data.size()[0]\n",
    "    lim = 1. / np.sqrt(fan_in)\n",
    "    return (-lim, lim)\n",
    "\n",
    "class Actor(nn.Module):\n",
    "    \"\"\"Actor (Policy) Model.\"\"\"\n",
    "\n",
    "    def __init__(self, state_size, action_size, seed, fc1_units=512, fc2_units=256):\n",
    "        \"\"\"Initialize parameters and build model.\n",
    "        Params\n",
    "        ======\n",
    "            state_size (int): Dimension of each state\n",
    "            action_size (int): Dimension of each action\n",
    "            seed (int): Random seed\n",
    "            fc1_units (int): Number of nodes in first hidden layer\n",
    "            fc2_units (int): Number of nodes in second hidden layer\n",
    "        \"\"\"\n",
    "        super(Actor, self).__init__()\n",
    "        self.seed = torch.manual_seed(seed)\n",
    "        self.fc1 = nn.Linear(state_size, fc1_units)\n",
    "        self.fc2 = nn.Linear(fc1_units, fc2_units)\n",
    "        self.fc3 = nn.Linear(fc2_units, action_size)\n",
    "        self.reset_parameters()\n",
    "\n",
    "    def reset_parameters(self):\n",
    "        self.fc1.weight.data.uniform_(*hidden_init(self.fc1))\n",
    "        self.fc2.weight.data.uniform_(*hidden_init(self.fc2))\n",
    "        self.fc3.weight.data.uniform_(-3e-3, 3e-3)\n",
    "\n",
    "    def forward(self, state):\n",
    "        \"\"\"Build an actor (policy) network that maps states -> actions.\"\"\"\n",
    "        x = F.relu(self.fc1(state))\n",
    "        x = F.relu(self.fc2(x))\n",
    "        return torch.tanh(self.fc3(x))\n",
    "\n",
    "class Critic(nn.Module):\n",
    "    \"\"\"Critic (Value) Model.\"\"\"\n",
    "\n",
    "    def __init__(self, state_size, action_size, seed, fcs1_units=512, fc2_units=256):\n",
    "        \"\"\"Initialize parameters and build model.\n",
    "        Params\n",
    "        ======\n",
    "            state_size (int): Dimension of each state\n",
    "            action_size (int): Dimension of each action\n",
    "            seed (int): Random seed\n",
    "            fcs1_units (int): Number of nodes in the first hidden layer\n",
    "            fc2_units (int): Number of nodes in the second hidden layer\n",
    "        \"\"\"\n",
    "        super(Critic, self).__init__()\n",
    "        self.seed = torch.manual_seed(seed)\n",
    "        self.fcs1 = nn.Linear(state_size, fcs1_units)\n",
    "        self.fc2 = nn.Linear(fcs1_units + action_size, fc2_units)\n",
    "        self.fc3 = nn.Linear(fc2_units, 1)\n",
    "        self.reset_parameters()\n",
    "        \n",
    "    def reset_parameters(self):\n",
    "        self.fcs1.weight.data.uniform_(*hidden_init(self.fcs1))\n",
    "        self.fc2.weight.data.uniform_(*hidden_init(self.fc2))\n",
    "        self.fc3.weight.data.uniform_(-3e-3, 3e-3)\n",
    "\n",
    "    def forward(self, state, action):\n",
    "        \"\"\"Build a critic (value) network that maps (state, action) pairs -> Q-values.\"\"\"\n",
    "        xs = F.relu(self.fcs1(state))\n",
    "        x = torch.cat((xs, action), dim=1)\n",
    "        x = F.relu(self.fc2(x))\n",
    "        return self.fc3(x)\n",
    "    \n",
    "\n",
    "class OUNoise:\n",
    "    \"\"\"Ornstein-Uhlenbeck process.\"\"\"\n",
    "\n",
    "    def __init__(self, shape, seed, mu=0., theta=0.15, sigma=0.2): #sigma=.08):\n",
    "        \"\"\"Initialize parameters and noise process.\"\"\"\n",
    "        self.mu = mu * np.ones(shape)\n",
    "        self.theta = theta\n",
    "        self.sigma = sigma\n",
    "        self.seed = random.seed(seed)\n",
    "        self.reset()\n",
    "\n",
    "    def reset(self):\n",
    "        \"\"\"Reset the internal state (= noise) to mean (mu).\"\"\"\n",
    "        self.state = copy.copy(self.mu)\n",
    "\n",
    "    def sample(self):\n",
    "        \"\"\"Update internal state and return it as a noise sample.\"\"\"\n",
    "        x = self.state\n",
    "        #dx = self.theta * (self.mu - x) + self.sigma * (np.random.rand(*x.shape)-0.5)\n",
    "        dx = self.theta * (self.mu - x) + self.sigma * np.random.standard_normal(x.shape)\n",
    "        self.state = x + dx\n",
    "        return self.state\n",
    "\n",
    "    \n",
    "    \n",
    "class ReplayBuffer:\n",
    "    \"\"\"Fixed-size buffer to store experience tuples.\"\"\"\n",
    "\n",
    "    def __init__(self, action_size, buffer_size, batch_size, seed):\n",
    "        \"\"\"Initialize a ReplayBuffer object.\n",
    "        Params\n",
    "        ======\n",
    "            buffer_size (int): maximum size of buffer\n",
    "            batch_size (int): size of each training batch\n",
    "        \"\"\" \n",
    "        self.action_size = action_size\n",
    "        self.memory = deque(maxlen=buffer_size)  # internal memory (deque)\n",
    "        self.batch_size = batch_size\n",
    "        self.experience = namedtuple(\"Experience\", field_names=[\"state\", \"action\", \"reward\", \"next_state\", \"done\"])\n",
    "        self.seed = random.seed(seed)\n",
    "    \n",
    "    def add(self, state, action, reward, next_state, done):\n",
    "        \"\"\"Add a new experience to memory.\"\"\"        \n",
    "        e = self.experience(state, action, reward, next_state, done)\n",
    "        self.memory.append(e)\n",
    "    \n",
    "    def sample(self):\n",
    "        \"\"\"Randomly sample a batch of experiences from memory.\"\"\"\n",
    "        if len(self.memory) <= self.batch_size: return None\n",
    "\n",
    "        experiences = random.sample(self.memory, k=self.batch_size)\n",
    "\n",
    "        states = torch.from_numpy(np.vstack([e.state for e in experiences if e is not None])).float().to(device)\n",
    "        actions = torch.from_numpy(np.vstack([e.action for e in experiences if e is not None])).float().to(device)\n",
    "        rewards = torch.from_numpy(np.vstack([e.reward for e in experiences if e is not None])).float().to(device)\n",
    "        next_states = torch.from_numpy(np.vstack([e.next_state for e in experiences if e is not None])).float().to(device)\n",
    "        dones = torch.from_numpy(np.vstack([e.done for e in experiences if e is not None]).astype(np.uint8)).float().to(device)\n",
    "\n",
    "        return (states, actions, rewards, next_states, dones)\n",
    "\n",
    "    def __len__(self):\n",
    "        \"\"\"Return the current size of internal memory.\"\"\"\n",
    "        return len(self.memory)\n"
   ]
  },
  {
   "cell_type": "markdown",
   "metadata": {},
   "source": [
    "## Agent"
   ]
  },
  {
   "cell_type": "markdown",
   "metadata": {},
   "source": [
    "In all of our experiments, we use the Adam optimizer with a learning rate of 0.01 and τ = 0.01 for updating the target networks. γ is set to be 0.95. The size of the replay buffer is 1e6 and we update the network parameters after every 100 samples added to the replay buffer. We use a batch size of 1024 episodes before making an update, except for TRPO where we found a batch size of 50 lead to better performance (allowing it more updates relative to MADDPG). We train with 10 random seeds for environments with stark success/ fail conditions (cooperative communication, physical deception, and covert communication) and 3 random seeds for the other environments."
   ]
  },
  {
   "cell_type": "code",
   "execution_count": 8,
   "metadata": {},
   "outputs": [],
   "source": [
    "class Agent:\n",
    "    \n",
    "    def __init__(self, state_size, action_size, random_seed):   \n",
    "\n",
    "        self.state_size = state_size        \n",
    "        self.action_size = action_size\n",
    "        self.seed = random.seed(random_seed)\n",
    "\n",
    "        # Actor Network (w/ Target Network)\n",
    "        self.actor_local = Actor(state_size, action_size, random_seed).to(device)\n",
    "        self.actor_target = Actor(state_size, action_size, random_seed).to(device)\n",
    "        self.actor_optimizer = optim.Adam(self.actor_local.parameters(), lr=LR_ACTOR)\n",
    "\n",
    "#         # Critic Network (w/ Target Network)\n",
    "#         self.critic_local = GLOBAL_CRITIC_LOCAL\n",
    "#         self.critic_target = GLOBAL_CRITIC_TARGET                \n",
    "#         self.critic_optimizer = GLOBAL_CRITIC_OPTIM\n",
    "\n",
    "#         # Critic Network (w/ Target Network)\n",
    "#         self.critic_local = Critic(state_size, action_size, random_seed).to(device)\n",
    "#         self.critic_target = Critic(state_size, action_size, random_seed).to(device)\n",
    "#         self.critic_optimizer = optim.Adam(self.critic_local.parameters(), lr=LR_CRITIC, weight_decay=WEIGHT_DECAY)\n",
    "                \n",
    "\n",
    "        # Replay memory        \n",
    "        self.memory = REPLAY_BUFFER\n",
    "\n",
    "        # Noise process\n",
    "        self.noise = NOISE\n",
    "        \n",
    "        self.t_step = 0\n",
    "        \n",
    "        # Actor and critic network losses\n",
    "        self.critic_loss = []\n",
    "        self.actor_loss  = []        \n",
    "                \n",
    "    def reset(self):\n",
    "        self.t_step = 0\n",
    "        self.noise.reset() \n",
    "   \n",
    "    def act(self, state, add_noise=True):\n",
    "        \"\"\"Returns actions for given state as per current policy.\"\"\"\n",
    "        state = torch.from_numpy(state).float().to(device)\n",
    "\n",
    "        self.actor_local.eval()\n",
    "        with torch.no_grad():\n",
    "            action = self.actor_local(state).cpu().data.numpy()\n",
    "        self.actor_local.train()        \n",
    "        if add_noise:\n",
    "            action += self.noise.sample().squeeze()\n",
    "        return np.clip(action, -1, 1)\n",
    "        \n",
    "    def step_actor(self, state, action, reward, next_state, done):\n",
    "        \"\"\"Save experience in replay memory, and use random sample from buffer to learn.\"\"\"\n",
    "        self.memory.add(state, action, reward, next_state, done)\n",
    "     \n",
    "    def step_critic(self):\n",
    "        # Learn, if enough samples are available in memory  \n",
    "        experiences = self.memory.sample()        \n",
    "\n",
    "        # Learn, if enough samples are available in memory\n",
    "        if len(self.memory) > BATCH_SIZE:\n",
    "            experiences = self.memory.sample()\n",
    "            self.learn(experiences)\n",
    "                 \n",
    "    def step(self, state, action, reward, next_state, done):\n",
    "        \"\"\"Save experience in replay memory, and use random sample from buffer to learn.\"\"\"\n",
    "        # Save experience / reward\n",
    "        self.step_actor(state, action, reward, next_state, done)      \n",
    "        self.step_critic()\n",
    "#         self.memory.add(state, action, reward, next_state, done)\n",
    "#         experiences = self.memory.sample()        \n",
    "#         if not experiences: return\n",
    "#         self.learn(experiences)\n",
    "\n",
    "    def learn(self, experiences):\n",
    "        \"\"\"Update policy and value parameters using given batch of experience tuples.\n",
    "        Q_targets = r + γ * target(next_state, actor_target(next_state))\n",
    "        where:\n",
    "            actor_target(state) -> action\n",
    "            target(state, action) -> Q-value\n",
    "        Params\n",
    "        ======\n",
    "            experiences (Tuple[torch.Tensor]): tuple of (s, a, r, s', done) tuples \n",
    "            gamma (float): discount factor\n",
    "        \"\"\"    \n",
    "        states, actions, rewards, next_states, dones = experiences\n",
    "        \n",
    "        # Get predicted next-state actions and Q values from target models\n",
    "        actions_next = self.actor_target(next_states)\n",
    "        # Use the obtained action as input to the critic's network, along with the NEXT state\n",
    "        Q_targets_next = GLOBAL_CRITIC_TARGET(next_states, actions_next)\n",
    "        # Compute Q targets for current states (y_i)\n",
    "        Q_targets = rewards + (GAMMA * Q_targets_next * (1 - dones))        \n",
    "        # Get the expected value from the critic's local network\n",
    "        Q_expected = GLOBAL_CRITIC_LOCAL(states, actions)\n",
    "        \n",
    "        ## update critic network        \n",
    "        # Compute critic loss\n",
    "        critic_loss = F.mse_loss(Q_expected, Q_targets)\n",
    "        \n",
    "        # Minimize the loss\n",
    "        GLOBAL_CRITIC_OPTIM.zero_grad()\n",
    "        critic_loss.backward()\n",
    "        # torch.nn.utils.clip_grad_norm(self.critic_local.parameters(), 1)\n",
    "        GLOBAL_CRITIC_OPTIM.step()\n",
    "\n",
    "        ## update actor network\n",
    "        # Compute actor loss\n",
    "        actions_pred = self.actor_local(states)\n",
    "        actor_loss = -GLOBAL_CRITIC_LOCAL(states, actions_pred).mean()\n",
    "        # Minimize the loss\n",
    "        self.actor_optimizer.zero_grad()\n",
    "        actor_loss.backward()\n",
    "        self.actor_optimizer.step()\n",
    "\n",
    "        # ----------------------- update target networks ----------------------- #\n",
    "        self.soft_update(GLOBAL_CRITIC_LOCAL, GLOBAL_CRITIC_TARGET, TAU)\n",
    "        self.soft_update(self.actor_local, self.actor_target, TAU)\n",
    "        \n",
    "        self.critic_loss.append(critic_loss)\n",
    "        self.actor_loss.append(actor_loss)\n",
    "\n",
    "    def soft_update(self, local_model, target_model, tau):\n",
    "        \"\"\"Soft update model parameters.\n",
    "        θ_target = τ*θ_local + (1 - τ)*θ_target\n",
    "        Params\n",
    "        ======\n",
    "            local_model: PyTorch model (weights will be copied from)\n",
    "            target_model: PyTorch model (weights will be copied to)\n",
    "            tau (float): interpolation parameter \n",
    "        \"\"\"\n",
    "        for target_param, local_param in zip(target_model.parameters(), local_model.parameters()):\n",
    "            target_param.data.copy_(tau*local_param.data + (1.0-tau)*target_param.data)"
   ]
  },
  {
   "cell_type": "markdown",
   "metadata": {},
   "source": [
    "### Training"
   ]
  },
  {
   "cell_type": "code",
   "execution_count": 9,
   "metadata": {},
   "outputs": [],
   "source": [
    "BUFFER_SIZE = int(1e6)  # replay buffer size\n",
    "BATCH_SIZE = 128        # minibatch size\n",
    "GAMMA = 0.99            # discount factor\n",
    "TAU = 2e-1              # for soft update of target parameters\n",
    "LR_ACTOR = 1e-4         # learning rate of the actor \n",
    "LR_CRITIC = 3e-4        # learning rate of the critic\n",
    "WEIGHT_DECAY = 0        # L2 weight decay\n",
    "\n",
    "device =  torch.device(\"cuda:0\" if torch.cuda.is_available() else \"cpu\")"
   ]
  },
  {
   "cell_type": "markdown",
   "metadata": {},
   "source": [
    "The task is episodic, and in order to solve the environment, the agents must get an average score of +0.5 (over 100 consecutive episodes, after taking the maximum over both agents). \n",
    "Specifically, after each episode, the rewards that each agent received \n",
    "(without discounting) are added up, to get a score for each agent. \n",
    "The maximum between these two, potentially different, scores is taken as single score for the episode. \n",
    "The environment is considered solved, when the average (over 100 episodes) of those scores is at least +0.5."
   ]
  },
  {
   "cell_type": "code",
   "execution_count": 15,
   "metadata": {},
   "outputs": [],
   "source": [
    "def ddpg(n_episodes=1000, ax=None):\n",
    "    scores_deque = deque(maxlen=100)                          # A queue to keep only the last 100 episodes' scores\n",
    "    \n",
    "    for i_episode in range(1, n_episodes+1):\n",
    "            \n",
    "        env_info = env.reset(train_mode=True)[brain_name]     # reset the environment   \n",
    "        \n",
    "        states = env_info.vector_observations                 # get the current state (for each agent)\n",
    "        scores = np.zeros(num_agents)                         # initialize the score (for each agent)\n",
    "                                \n",
    "        agent_0.reset()                    # Reset the agent to start the episode        \n",
    "        agent_1.reset() \n",
    "        \n",
    "        actions = np.zeros((num_agents, action_size))\n",
    "        while True:  \n",
    "            action_0 = agent_0.act(states[0], add_noise=True)\n",
    "            action_1 = agent_1.act(states[1], add_noise=True)        \n",
    "            actions = np.concatenate((action_0, action_1))              \n",
    "                        \n",
    "            env_info    = env.step(actions)[brain_name]       # send all actions to the environment\n",
    "            next_states = env_info.vector_observations        # get next state (for each agent)\n",
    "            rewards     = env_info.rewards                    # get reward (for each agent)\n",
    "            dones       = env_info.local_done                 # see if episode finished\n",
    "            scores      += rewards                            # update the score (for each agent). After each episode, we add up the rewards that each agent received (without discounting)\n",
    "            \n",
    "            # Perform an agent step. \n",
    "            agent_0.step_actor(states[0], action_0, rewards[0], next_states[0], dones[0])\n",
    "            agent_1.step_actor(states[1], action_1, rewards[1], next_states[1], dones[1])\n",
    "            \n",
    "            agent_0.step_critic()\n",
    "            agent_1.step_critic()\n",
    "            \n",
    "            states = next_states                              # Roll over states to next time step\n",
    "\n",
    "            if np.any(dones):                                 # exit loop if episode finished\n",
    "                break\n",
    "                                      \n",
    "        max_score = scores.max()                            # Get the max score of the episode (over all agents)\n",
    "        scores_deque.append(max_score)                      # Store the score in the queue\n",
    "        avg_score = np.mean(scores_deque)                   # Compute the mean score over the last 100 episodes\n",
    "         \n",
    "        if ax is not None:\n",
    "            if max_score != 0:\n",
    "                ax.scatter(i_episode, max_score, color='r', s=10) \n",
    "            ax.scatter(i_episode, avg_score, color='g', s=10)\n",
    "            ax.set_ylabel('Score')\n",
    "            ax.set_xlabel('Episode #')\n",
    "            display.clear_output(wait=True)\n",
    "            display.display(plt.gcf())\n",
    "        else:\n",
    "            print('\\rEpisode: \\t{} \\tScore: \\t{:.2f} \\tMax Score: \\t{:.2f} \\tAverage Score: \\t{:.2f}'.format(i_episode, max_score, np.max(scores_deque), np.mean(scores_deque)), end=\"\") \n",
    "\n",
    "            \n",
    "        if len(scores_deque) >= 100 and avg_score >= 0.5 :\n",
    "            print('\\rEnvironment solved in {} episodes, average score: {:.2f}'.format(i_episode, avg_score))\n",
    "            torch.save(agent_0.actor_local.state_dict(), f'checkpoint-actor_local-agent-{0}.pth')\n",
    "            torch.save(agent_0.actor_target.state_dict(), f'checkpoint-actor_target-agent-{0}.pth') \n",
    "            torch.save(agent_1.actor_local.state_dict(), f'checkpoint-actor_local-agent-{1}.pth')\n",
    "            torch.save(agent_1.actor_target.state_dict(), f'checkpoint-actor_target-agent-{1}.pth') \n",
    "            torch.save(GLOBAL_CRITIC_LOCAL.state_dict(), f'checkpoint-global-critic_local.pth')\n",
    "            torch.save(GLOBAL_CRITIC_TARGET.state_dict(), f'checkpoint-global-critic_target.pth') \n",
    "\n",
    "            with open('scores_deque.pkl', 'wb') as f:\n",
    "                pickle.dump(scores_deque, f)\n",
    "                \n",
    "            break\n",
    "         \n",
    "        with open('./quit', 'r') as f:\n",
    "            quit = int(f.readline())\n",
    "            if quit == 1:\n",
    "                print('QUIT')\n",
    "                break\n",
    "            \n",
    "    return scores_deque"
   ]
  },
  {
   "cell_type": "code",
   "execution_count": 16,
   "metadata": {},
   "outputs": [],
   "source": [
    "REPLAY_BUFFER = ReplayBuffer(action_size, BUFFER_SIZE, BATCH_SIZE, RANDOM_SEED)\n",
    "NOISE = OUNoise(action_size, RANDOM_SEED)\n",
    "#NOISE = OUNoise((num_agents, action_size), RANDOM_SEED)\n",
    "\n",
    "GLOBAL_CRITIC_LOCAL  = Critic(state_size, action_size, RANDOM_SEED).to(device)\n",
    "GLOBAL_CRITIC_TARGET = Critic(state_size, action_size, RANDOM_SEED).to(device)\n",
    "GLOBAL_CRITIC_OPTIM  = optim.Adam(GLOBAL_CRITIC_LOCAL.parameters(), lr=LR_CRITIC, weight_decay=WEIGHT_DECAY)\n",
    "\n",
    "agent_0 = Agent(state_size, action_size, RANDOM_SEED)\n",
    "agent_1 = Agent(state_size, action_size, RANDOM_SEED) "
   ]
  },
  {
   "cell_type": "code",
   "execution_count": 17,
   "metadata": {},
   "outputs": [],
   "source": [
    "!echo '0' > ./quit"
   ]
  },
  {
   "cell_type": "code",
   "execution_count": 18,
   "metadata": {
    "scrolled": false
   },
   "outputs": [
    {
     "data": {
      "image/png": "[encoded data removed]",
      "text/plain": [
       "<Figure size 432x288 with 1 Axes>"
      ]
     },
     "metadata": {},
     "output_type": "display_data"
    },
    {
     "name": "stdout",
     "output_type": "stream",
     "text": [
      "\r",
      "Environment solved in 391 episodes, average score: 0.50\n"
     ]
    },
    {
     "data": {
      "image/png": "[encoded data removed]",
      "text/plain": [
       "<Figure size 432x288 with 1 Axes>"
      ]
     },
     "metadata": {
      "needs_background": "light"
     },
     "output_type": "display_data"
    }
   ],
   "source": [
    "fig = plt.figure();\n",
    "scores = ddpg(n_episodes=1000, ax=fig.add_subplot(111));     "
   ]
  },
  {
   "cell_type": "markdown",
   "metadata": {},
   "source": [
    "### Analysing the last 100 episodes"
   ]
  },
  {
   "cell_type": "code",
   "execution_count": 57,
   "metadata": {},
   "outputs": [],
   "source": [
    "with open('saved-mdls/scores_deque.pkl', 'rb') as f:\n",
    "    my_scores = pickle.load(f)"
   ]
  },
  {
   "cell_type": "code",
   "execution_count": 82,
   "metadata": {},
   "outputs": [
    {
     "data": {
      "image/png": "[encoded data removed]",
      "text/plain": [
       "<Figure size 432x288 with 1 Axes>"
      ]
     },
     "metadata": {
      "needs_background": "light"
     },
     "output_type": "display_data"
    }
   ],
   "source": [
    "fig = plt.figure()\n",
    "ax = fig.add_subplot(111)\n",
    "plt.plot(np.arange(1, len(my_scores)+1), my_scores, marker='.', markersize=10)\n",
    "plt.plot(np.arange(1, len(my_scores)+1), np.ones(len(my_scores))*np.mean(my_scores))\n",
    "plt.ylabel('Score')\n",
    "plt.xlabel('Episode #')\n",
    "ax.legend(['score', 'avg over 100 eps'])\n",
    "plt.show()"
   ]
  },
  {
   "cell_type": "markdown",
   "metadata": {},
   "source": [
    "## Plot actor and critic loss"
   ]
  },
  {
   "cell_type": "code",
   "execution_count": 33,
   "metadata": {},
   "outputs": [
    {
     "data": {
      "text/plain": [
       "Text(0.5, 1.0, 'Agent 1, Critic loss')"
      ]
     },
     "execution_count": 33,
     "metadata": {},
     "output_type": "execute_result"
    },
    {
     "data": {
      "image/png": "[encoded data removed]",
      "text/plain": [
       "<Figure size 432x288 with 4 Axes>"
      ]
     },
     "metadata": {
      "needs_background": "light"
     },
     "output_type": "display_data"
    }
   ],
   "source": [
    "# Creates two subplots \n",
    "f, (ax1, ax2) = plt.subplots(nrows=2, ncols=2, sharey=False)\n",
    "f.tight_layout()\n",
    "\n",
    "ax1[0].plot(agent_0.actor_loss, color='r')\n",
    "ax1[0].set_title('Agent 0, Actor loss')\n",
    "\n",
    "ax2[0].plot(agent_0.critic_loss, color='b')\n",
    "ax2[0].set_title('Agent 0, Critic loss')\n",
    "\n",
    "\n",
    "ax1[1].plot(agent_1.actor_loss, color='r')\n",
    "ax1[1].set_title('Agent 1, Actor loss')\n",
    "\n",
    "ax2[1].plot(agent_1.critic_loss, color='b')\n",
    "ax2[1].set_title('Agent 1, Critic loss')"
   ]
  },
  {
   "cell_type": "markdown",
   "metadata": {},
   "source": [
    "### Test it"
   ]
  },
  {
   "cell_type": "markdown",
   "metadata": {},
   "source": [
    "Load the network weights and play. Note that now we only use the Actor network."
   ]
  },
  {
   "cell_type": "code",
   "execution_count": 50,
   "metadata": {},
   "outputs": [],
   "source": [
    "my_agent_0 = Agent(state_size, action_size, RANDOM_SEED)\n",
    "my_agent_1 = Agent(state_size, action_size, RANDOM_SEED) \n",
    "\n",
    "my_agent_0.actor_local.load_state_dict(torch.load('./saved-mdls/checkpoint-actor_local-agent-0.pth', map_location=lambda storage, loc: storage))\n",
    "my_agent_0.actor_local.eval()\n",
    "\n",
    "my_agent_1.actor_local.load_state_dict(torch.load('./saved-mdls/checkpoint-actor_local-agent-1.pth', map_location=lambda storage, loc: storage))\n",
    "my_agent_1.actor_local.eval();"
   ]
  },
  {
   "cell_type": "code",
   "execution_count": 52,
   "metadata": {},
   "outputs": [
    {
     "name": "stdout",
     "output_type": "stream",
     "text": [
      "Score (max over agents) from episode 0: 2.600000038743019\n"
     ]
    }
   ],
   "source": [
    "for i in range(1):                                         # play game for 5 episodes\n",
    "    env_info = env.reset(train_mode=False)[brain_name]     # reset the environment    \n",
    "    states = env_info.vector_observations                  # get the current state (for each agent)\n",
    "    scores = np.zeros(num_agents)                          # initialize the score (for each agent)\n",
    "    while True:\n",
    "        action_0 = my_agent_0.act(states[0], add_noise=False)\n",
    "        action_1 = my_agent_1.act(states[1], add_noise=False)        \n",
    "        actions = np.concatenate((action_0, action_1))              \n",
    "\n",
    "        env_info = env.step(actions)[brain_name]           # send all actions to tne environment\n",
    "        next_states = env_info.vector_observations         # get next state (for each agent)\n",
    "        rewards = env_info.rewards                         # get reward (for each agent)\n",
    "        dones = env_info.local_done                        # see if episode finished\n",
    "        scores += env_info.rewards                         # update the score (for each agent)\n",
    "        states = next_states                               # roll over states to next time step\n",
    "        if np.any(dones):                                  # exit loop if episode finished\n",
    "            break\n",
    "    print('Score (max over agents) from episode {}: {}'.format(i, np.max(scores)))"
   ]
  },
  {
   "cell_type": "markdown",
   "metadata": {},
   "source": [
    "Close the environment"
   ]
  },
  {
   "cell_type": "code",
   "execution_count": 83,
   "metadata": {},
   "outputs": [],
   "source": [
    "env.close()"
   ]
  }
 ],
 "metadata": {
  "kernelspec": {
   "display_name": "banana-navigation",
   "language": "python",
   "name": "drlnd"
  },
  "language_info": {
   "codemirror_mode": {
    "name": "ipython",
    "version": 3
   },
   "file_extension": ".py",
   "mimetype": "text/x-python",
   "name": "python",
   "nbconvert_exporter": "python",
   "pygments_lexer": "ipython3",
   "version": "3.6.10"
  }
 },
 "nbformat": 4,
 "nbformat_minor": 2
}
